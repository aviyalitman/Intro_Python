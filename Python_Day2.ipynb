{
  "nbformat": 4,
  "nbformat_minor": 0,
  "metadata": {
    "colab": {
      "provenance": []
    },
    "kernelspec": {
      "name": "python3",
      "display_name": "Python 3"
    },
    "language_info": {
      "name": "python"
    }
  },
  "cells": [
    {
      "cell_type": "markdown",
      "source": [
        "# Python Day 2!"
      ],
      "metadata": {
        "id": "VhKE-uPHBS7_"
      }
    },
    {
      "cell_type": "markdown",
      "source": [
        "### What will we cover?\n",
        "* Some more lists\n",
        "* For and while loops\n",
        "* Dictionaries!\n",
        "* If-else statements (let's play rock-paper-scissors against the computer)\n",
        "* Functions"
      ],
      "metadata": {
        "id": "76f5SMgsBZBS"
      }
    },
    {
      "cell_type": "markdown",
      "metadata": {
        "id": "jqSonMQ9DFYi"
      },
      "source": [
        "## Lists\n",
        "\n",
        "- A list is a collection of Python objects, such as strings or integers."
      ]
    },
    {
      "cell_type": "code",
      "execution_count": null,
      "metadata": {
        "id": "4NZPmqlPDFYj"
      },
      "outputs": [],
      "source": [
        "# Create a list of three strings\n",
        "\n",
        "animals = ['dog', 'cat', 'mouse']\n",
        "\n",
        "print(animals)"
      ]
    },
    {
      "cell_type": "markdown",
      "metadata": {
        "id": "e8N9F8zgDFYk"
      },
      "source": [
        "### Methods\n",
        "\n",
        "- \"append\" is a method of the list object \"animals\".\n",
        "\n",
        "- It knows how to attach things to the end of the list."
      ]
    },
    {
      "cell_type": "code",
      "execution_count": null,
      "metadata": {
        "id": "Mz56hzC7DFYk"
      },
      "outputs": [],
      "source": [
        "# Attach something to the end of the list\n",
        "\n",
        "animals.append('rat')\n",
        "print(animals)"
      ]
    },
    {
      "cell_type": "markdown",
      "metadata": {
        "id": "Oa-02aIUDFYk"
      },
      "source": [
        "- \"sort\" is also a method of the list animals. It puts the things in the list in order."
      ]
    },
    {
      "cell_type": "code",
      "execution_count": null,
      "metadata": {
        "id": "Jqkp0X8NDFYk"
      },
      "outputs": [],
      "source": [
        "# Sort a list in order\n",
        "\n",
        "animals.sort()\n",
        "\n",
        "print(animals)"
      ]
    },
    {
      "cell_type": "markdown",
      "metadata": {
        "id": "W1zUIkF3DFYk"
      },
      "source": [
        "- You can make an empty list."
      ]
    },
    {
      "cell_type": "code",
      "execution_count": null,
      "metadata": {
        "id": "FfeVsbO_DFYk"
      },
      "outputs": [],
      "source": [
        "anotherList = []\n",
        "\n",
        "print(anotherList)"
      ]
    },
    {
      "cell_type": "markdown",
      "metadata": {
        "id": "l64W2Tb-DFYl"
      },
      "source": [
        "## Exercise\n",
        "\n",
        "- Create a list containing three integers. Be sure the integers *are not* in numerical order.\n",
        "- Sort the list and print it out.\n",
        "- Using a for loop, print out each integer in your list, one per line."
      ]
    },
    {
      "cell_type": "markdown",
      "metadata": {
        "id": "ibu_8-KjDqSU"
      },
      "source": [
        "## List indexes\n",
        "\n",
        "- Indexes are used to access individual items in a list.\n",
        "- Indexes are integers, starting from 0."
      ]
    },
    {
      "cell_type": "code",
      "execution_count": null,
      "metadata": {
        "id": "C50J1_WnDqSW"
      },
      "outputs": [],
      "source": [
        "animals = ['dog', 'cat', 'mouse', 'rat']\n",
        "\n",
        "print('animals: ', animals)\n",
        "\n",
        "print('animals[0]:', animals[0])\n",
        "\n",
        "print('animals[3]:', animals[3])"
      ]
    },
    {
      "cell_type": "markdown",
      "metadata": {
        "id": "nPAgEGZaDqSX"
      },
      "source": [
        "## Slices\n",
        "\n",
        "- You can specify a range of indexes -- this is called a \"slice\".\n",
        "\n",
        "- The slice is specified as a starting index, a colon, and a number that is **one more than the ending index** you want."
      ]
    },
    {
      "cell_type": "code",
      "execution_count": null,
      "metadata": {
        "id": "E8thPMKJDqSX"
      },
      "outputs": [],
      "source": [
        "print('animals[0:2]:', animals[0:2])"
      ]
    },
    {
      "cell_type": "markdown",
      "metadata": {
        "id": "9i6cS_n1DqSX"
      },
      "source": [
        "- You can omit one or both indexes\n",
        "  - The starting index defaults to 0.\n",
        "  - The ending index defaults to the end of the list."
      ]
    },
    {
      "cell_type": "code",
      "execution_count": null,
      "metadata": {
        "id": "Lrqb0sTkDqSY"
      },
      "outputs": [],
      "source": [
        "# Use the default starting index.\n",
        "\n",
        "print('animals[:2]:', animals[:2])\n",
        "\n",
        "# Use the default ending index.\n",
        "\n",
        "print('animals[1:]:', animals[1:])\n",
        "\n",
        "# Use both defaults.\n",
        "\n",
        "print('animals[:]: ', animals[:])"
      ]
    },
    {
      "cell_type": "markdown",
      "metadata": {
        "id": "wQNfZaQVDqSY"
      },
      "source": [
        "- Negative indexes start from the end"
      ]
    },
    {
      "cell_type": "code",
      "execution_count": null,
      "metadata": {
        "id": "P_K9N0qyDqSY"
      },
      "outputs": [],
      "source": [
        "print('animals[-1]:', animals[-1])"
      ]
    },
    {
      "cell_type": "markdown",
      "metadata": {
        "id": "bYAzcqrVDqSZ"
      },
      "source": [
        "- Guido van Rossum (inventor of Python), *Why Python uses 0-based indexing.* October 24, 2013:\n",
        "  - http://python-history.blogspot.com/2013/10/why-python-uses-0-based-indexing.html\n",
        "  \n",
        "  >Let's first look at use cases. Probably the most common use cases for slicing are \"get the first n items\" and \"get the next n items starting at i\".\n",
        "  \n",
        "  > Using 0-based indexing, half-open intervals, and suitable defaults (as Python ended up having), they are beautiful: a[:n] and a[i:i+n].\n",
        "  "
      ]
    },
    {
      "cell_type": "markdown",
      "metadata": {
        "id": "fXDmOlHBDqSZ"
      },
      "source": [
        "## Exercise 09\n",
        "\n",
        "- Using a slice, print \"cat\" and \"mouse\" from the list of animals."
      ]
    },
    {
      "cell_type": "code",
      "execution_count": null,
      "metadata": {
        "id": "rFxtEhZ3DqSZ"
      },
      "outputs": [],
      "source": [
        "animals = ['dog', 'cat', 'mouse', 'rat']\n",
        "# your code here:"
      ]
    },
    {
      "cell_type": "markdown",
      "source": [
        "## For and While loops\n",
        "\n",
        "How do you loop over the elements of a list?"
      ],
      "metadata": {
        "id": "E4QpVaiEHv-L"
      }
    },
    {
      "cell_type": "code",
      "execution_count": null,
      "metadata": {
        "id": "4cCOysfWL9gA"
      },
      "outputs": [],
      "source": [
        "animals = ['cat', 'dog', 'monkey']\n",
        "# loop over the animals:"
      ]
    },
    {
      "cell_type": "code",
      "source": [
        "# While loop is another useful iteration methods\n",
        "\n",
        "i = 1\n",
        "while i < 6: # when this is no longer true, break out!\n",
        "  print(i)\n",
        "  i += 1"
      ],
      "metadata": {
        "id": "HIYAF1NeH_gb"
      },
      "execution_count": null,
      "outputs": []
    },
    {
      "cell_type": "code",
      "source": [
        "brain_power_left = 10\n",
        "while brain_power_left != 0:\n",
        "  print('study moreeee')\n",
        "  brain_power_left = brain_power_left - 1 # losing brain power\n",
        "\n",
        "print(\"ok you can go to sleep now.\")"
      ],
      "metadata": {
        "id": "BJj6ZS7uI1ZW"
      },
      "execution_count": null,
      "outputs": []
    },
    {
      "cell_type": "markdown",
      "metadata": {
        "id": "94AQiydfEQ00"
      },
      "source": [
        "# \"if\" statements\n",
        "\n",
        "- An \"if\" statement causes the indented code to do something under certain conditions."
      ]
    },
    {
      "cell_type": "code",
      "execution_count": null,
      "metadata": {
        "collapsed": true,
        "id": "HMFETbQLEQ02",
        "outputId": "346fbeb1-ad15-4421-e17f-f6f37e204ec6"
      },
      "outputs": [
        {
          "name": "stdout",
          "output_type": "stream",
          "text": [
            "x equals 1\n"
          ]
        }
      ],
      "source": [
        "x = 1\n",
        "\n",
        "# Test if x is equal to 1.  The double equal sign tests for equality.\n",
        "\n",
        "if x == 1:\n",
        "    print('x equals 1')"
      ]
    },
    {
      "cell_type": "markdown",
      "metadata": {
        "id": "9Y14JHLgEQ03"
      },
      "source": [
        "- \"else\" covers the other conditions."
      ]
    },
    {
      "cell_type": "code",
      "execution_count": null,
      "metadata": {
        "collapsed": true,
        "id": "kUW39qzLEQ03",
        "outputId": "75b454d1-b55d-4204-eb02-2c5393179ce8"
      },
      "outputs": [
        {
          "name": "stdout",
          "output_type": "stream",
          "text": [
            "x is not equal to 1\n"
          ]
        }
      ],
      "source": [
        "x = 77\n",
        "\n",
        "if x == 1:\n",
        "    print('x equals 1')\n",
        "else:\n",
        "    print('x is not equal to 1')"
      ]
    },
    {
      "cell_type": "markdown",
      "metadata": {
        "id": "2N6sJbOqEQ04"
      },
      "source": [
        "- You can also have one or more \"elif\" statements to cover other conditions. "
      ]
    },
    {
      "cell_type": "code",
      "execution_count": null,
      "metadata": {
        "collapsed": true,
        "id": "8Snm9vnEEQ04",
        "outputId": "4e2383cc-c153-420f-d00f-151241b7e899"
      },
      "outputs": [
        {
          "name": "stdout",
          "output_type": "stream",
          "text": [
            "x equals 2\n"
          ]
        }
      ],
      "source": [
        "x = 2\n",
        "\n",
        "if x == 1:\n",
        "    print('x equals 1')\n",
        "elif x == 2:\n",
        "    print('x equals 2')\n",
        "else:\n",
        "    print('x is not equal to 1 or 2')"
      ]
    },
    {
      "cell_type": "code",
      "execution_count": null,
      "metadata": {
        "collapsed": true,
        "id": "5p9kf-4eEQ04",
        "outputId": "8c3636e0-4985-42e3-87cc-94098cc6346e"
      },
      "outputs": [
        {
          "name": "stdout",
          "output_type": "stream",
          "text": [
            "x is not equal to 1 or 2\n"
          ]
        }
      ],
      "source": [
        "# Same as above, but now x is set to 3.\n",
        "\n",
        "x = 3\n",
        "\n",
        "if x == 1:\n",
        "    print('x equals 1')\n",
        "elif x == 2:\n",
        "    print('x equals 2')\n",
        "else:\n",
        "    print('x is not equal to 1 or 2')"
      ]
    },
    {
      "cell_type": "markdown",
      "metadata": {
        "id": "yXCOuc-gEQ05"
      },
      "source": [
        "- The \"in\" operator tests if an element is in a collection"
      ]
    },
    {
      "cell_type": "code",
      "execution_count": null,
      "metadata": {
        "collapsed": true,
        "id": "kSPFfj-EEQ05",
        "outputId": "f65fd6ba-a90a-48c1-e3b4-396bc587d047"
      },
      "outputs": [
        {
          "name": "stdout",
          "output_type": "stream",
          "text": [
            "dog is in animals\n"
          ]
        }
      ],
      "source": [
        "# Check if something is in a list\n",
        "\n",
        "animals = ['dog', 'cat', 'mouse']\n",
        "\n",
        "if 'dog' in animals:\n",
        "    print('dog is in animals')\n",
        "else:\n",
        "    print('dog is not in animals')"
      ]
    },
    {
      "cell_type": "markdown",
      "metadata": {
        "id": "7h49TvyPEQ05"
      },
      "source": [
        "- \"not in\" tests if an elment is **not** in a collection"
      ]
    },
    {
      "cell_type": "code",
      "execution_count": null,
      "metadata": {
        "collapsed": true,
        "id": "kzFoGtCtEQ05",
        "outputId": "a0944a4b-4655-43ef-a4c6-167f5128ae72"
      },
      "outputs": [
        {
          "name": "stdout",
          "output_type": "stream",
          "text": [
            "['dog', 'cat', 'mouse', 'rat']\n"
          ]
        }
      ],
      "source": [
        "# Check if something is not in a list\n",
        "\n",
        "if 'rat' not in animals:\n",
        "    animals.append('rat')\n",
        "    \n",
        "print(animals)"
      ]
    },
    {
      "cell_type": "markdown",
      "metadata": {
        "id": "CYl6dTJGEQ05"
      },
      "source": [
        "- Every object in Python is either True or False, when used in an \"if\" statement.\n",
        "  - A list with at least one item is True.  An empty list is False.\n",
        "  - The same for a string.\n",
        "  - The same for any other kind of collection."
      ]
    },
    {
      "cell_type": "code",
      "execution_count": null,
      "metadata": {
        "collapsed": true,
        "id": "WvoTfzj9EQ06",
        "outputId": "e6d003d4-a620-493a-b15e-16e379e0969f"
      },
      "outputs": [
        {
          "name": "stdout",
          "output_type": "stream",
          "text": [
            "mylist is empty\n"
          ]
        }
      ],
      "source": [
        "mylist = []\n",
        "if mylist:\n",
        "    print('mylist is not empty')\n",
        "else:\n",
        "    print('mylist is empty')"
      ]
    },
    {
      "cell_type": "markdown",
      "metadata": {
        "id": "Gow_zKNCEQ06"
      },
      "source": [
        "## Let's play rock-paper-scissors against the computer!!\n",
        "\n",
        "Some tools you'll need:"
      ]
    },
    {
      "cell_type": "code",
      "source": [
        "# You can ask the user for an input!\n",
        "\n",
        "user_input = input('What day is it today? ')\n",
        "\n",
        "if user_input == 'Tuesday':\n",
        "  print('Correct!')\n",
        "else:\n",
        "  print('Fix your clock...')"
      ],
      "metadata": {
        "colab": {
          "base_uri": "https://localhost:8080/"
        },
        "id": "YfGdISZZEqT_",
        "outputId": "f486aad5-b0ca-4de5-c08c-397391863c6f"
      },
      "execution_count": 9,
      "outputs": [
        {
          "output_type": "stream",
          "name": "stdout",
          "text": [
            "What day is it today? idk\n",
            "Check your clock :)\n"
          ]
        }
      ]
    },
    {
      "cell_type": "markdown",
      "source": [
        "Can we make the code above more flexible? Let's say I write \"I think it's Tuesday but I'm not sure\", how can we count that as a correct answer?"
      ],
      "metadata": {
        "id": "LAwySCBgqjtO"
      }
    },
    {
      "cell_type": "code",
      "source": [
        "user_input = input('What day is it today? ')\n",
        "\n",
        "if 'Tuesday' in user_input: # use \"in\" operator\n",
        "  print('Correct!')\n",
        "else:\n",
        "  print('Check your clock lol')"
      ],
      "metadata": {
        "id": "ePMYbzdgqicz"
      },
      "execution_count": null,
      "outputs": []
    },
    {
      "cell_type": "markdown",
      "source": [
        "### Random module"
      ],
      "metadata": {
        "id": "aDWiniiYs57m"
      }
    },
    {
      "cell_type": "code",
      "source": [
        "# You can use the 'random' module to come up with random numbers! \n",
        "\n",
        "import random\n",
        "\n",
        "foods = ['pasta', 'pizza', 'burgers']\n",
        "user_input = input('My dearest human, I made you pasta, pizza, and burgers today. What would you like to eat? ')\n",
        "\n",
        "# Randomly choose a food!\n",
        "selected_food = random.choice(foods)\n",
        "if selected_food == user_input:\n",
        "  print(f\"At your command. Enjoy your {selected_food}.\")\n",
        "else:\n",
        "  print(f\"Just kiddin, there's only {selected_food} on the menu today.\")"
      ],
      "metadata": {
        "id": "OG7xIeRxFN9l"
      },
      "execution_count": null,
      "outputs": []
    },
    {
      "cell_type": "code",
      "source": [
        "### CODE FOR ROCK-PAPER-SCISSORS\n",
        "\n"
      ],
      "metadata": {
        "id": "M89nNoRYGgKE"
      },
      "execution_count": null,
      "outputs": []
    },
    {
      "cell_type": "markdown",
      "metadata": {
        "id": "uehz2Q5gGyMu"
      },
      "source": [
        "# Dictionaries\n",
        "\n",
        "- A dictionary is a collection of key/value pairs.\n",
        "- A dictionary is like a list, but:\n",
        "  - The indexes (that is, the keys) are not necessarily integers.\n",
        "  - The elements are not stored in any particular order."
      ]
    },
    {
      "cell_type": "code",
      "execution_count": null,
      "metadata": {
        "id": "0xeu7fWKGyMw"
      },
      "outputs": [],
      "source": [
        "species = {'dog': 'Canis familiaris',\n",
        "           'cat': 'Felis catus',\n",
        "           'mouse': 'Mus musculus'}\n",
        "\n",
        "print(species)"
      ]
    },
    {
      "cell_type": "markdown",
      "metadata": {
        "id": "V0sszAstGyMy"
      },
      "source": [
        "- Dictionaries values are accessed by keys."
      ]
    },
    {
      "cell_type": "code",
      "execution_count": null,
      "metadata": {
        "id": "Ix7-Nb4-GyMy"
      },
      "outputs": [],
      "source": [
        "print(species['cat'])"
      ]
    },
    {
      "cell_type": "markdown",
      "metadata": {
        "id": "iVuI8cQhGyMy"
      },
      "source": [
        "- To add an item (a key/value pair) to a dictionary, simply assign a value to the new key."
      ]
    },
    {
      "cell_type": "code",
      "execution_count": null,
      "metadata": {
        "id": "9Z84RHEPGyMy"
      },
      "outputs": [],
      "source": [
        "species['rat'] = 'Rattus norvegicus'\n",
        "\n",
        "print(species)"
      ]
    },
    {
      "cell_type": "markdown",
      "metadata": {
        "id": "EVwshaysGyMz"
      },
      "source": [
        "### Lists vs. dictionaries\n",
        "\n",
        "- Use a list when the order matters:\n",
        "\n",
        "|Index|Value|\n",
        "|---|---|\n",
        "| 0 | 'dog' |\n",
        "| 1 | 'cat' |\n",
        "| 2 | 'mouse' |\n",
        "\n",
        "- Use a dictionary when you want to look up values at random (quickly):\n",
        "\n",
        "|Key|Value|\n",
        "|---|---|\n",
        "| 'dog' | 'Canis familiaris' |\n",
        "| 'cat' | 'Felis catus' |\n",
        "| 'mouse' | 'Mus musculus' |\n"
      ]
    },
    {
      "cell_type": "markdown",
      "metadata": {
        "id": "Hf-LPH4eGyMz"
      },
      "source": [
        "### Brackets and braces\n",
        "\n",
        "- Lists are created with square brackets:"
      ]
    },
    {
      "cell_type": "code",
      "execution_count": null,
      "metadata": {
        "id": "EUFEuMKIGyMz"
      },
      "outputs": [],
      "source": [
        "animals = ['dog', 'cat', 'mouse']"
      ]
    },
    {
      "cell_type": "markdown",
      "metadata": {
        "id": "yNaYauKMGyMz"
      },
      "source": [
        "- Dictionaries are created with curly braces:"
      ]
    },
    {
      "cell_type": "code",
      "execution_count": null,
      "metadata": {
        "id": "WqQOj_dYGyMz"
      },
      "outputs": [],
      "source": [
        "species = {'dog': 'Canis familiaris', 'cat': 'Felis catus', 'mouse': 'Mus musculus'}"
      ]
    },
    {
      "cell_type": "markdown",
      "metadata": {
        "id": "oVKQXDfaGyM0"
      },
      "source": [
        "- But indexing is always done with square brackets:"
      ]
    },
    {
      "cell_type": "code",
      "execution_count": null,
      "metadata": {
        "id": "QYT3_c7UGyM0"
      },
      "outputs": [],
      "source": [
        "print(animals[0])\n",
        "print(species['dog'])"
      ]
    },
    {
      "cell_type": "markdown",
      "metadata": {
        "id": "SUdiEL2HGyM0"
      },
      "source": [
        "### Dictionary keys and values"
      ]
    },
    {
      "cell_type": "code",
      "execution_count": null,
      "metadata": {
        "collapsed": true,
        "id": "rUR-3bxdGyM0",
        "outputId": "668c9176-0354-4f68-c45d-bfae222d154b"
      },
      "outputs": [
        {
          "name": "stdout",
          "output_type": "stream",
          "text": [
            "dict_keys(['dog', 'cat', 'mouse'])\n"
          ]
        }
      ],
      "source": [
        "# Get all the keys using the keys method\n",
        "\n",
        "print(species.keys())"
      ]
    },
    {
      "cell_type": "code",
      "execution_count": null,
      "metadata": {
        "collapsed": true,
        "id": "1OvWJizLGyM0",
        "outputId": "b13e19df-a014-44c9-aa59-2acf8438f606"
      },
      "outputs": [
        {
          "name": "stdout",
          "output_type": "stream",
          "text": [
            "dict_values(['Canis familiaris', 'Felis catus', 'Mus musculus'])\n"
          ]
        }
      ],
      "source": [
        "# Get all the values using the values method\n",
        "\n",
        "print(species.values())"
      ]
    },
    {
      "cell_type": "markdown",
      "metadata": {
        "id": "sZBzM1_EGyM1"
      },
      "source": [
        "### Iterating over a dictionary\n",
        "\n",
        "- When you use a dictionary in a for loop, you get each key."
      ]
    },
    {
      "cell_type": "code",
      "execution_count": null,
      "metadata": {
        "id": "lxEmIryRGyM1"
      },
      "outputs": [],
      "source": [
        "# Iterate over a dictionary\n",
        "\n",
        "for animal in species:\n",
        "    print(animal, ': ', species[animal])"
      ]
    },
    {
      "cell_type": "code",
      "source": [
        "d = {'person': 2, 'cat': 4, 'spider': 8}\n",
        "\n",
        "for animal, legs in d.items(): # another way to iterate\n",
        "    print('A {} has {} legs'.format(animal, legs))"
      ],
      "metadata": {
        "id": "jqt_fVDPJvKp"
      },
      "execution_count": null,
      "outputs": []
    },
    {
      "cell_type": "markdown",
      "source": [
        "### Exercise: build and iterate through a dictionary \n",
        "\n",
        "For every element in num, square it and build a dictionary mapping the element to its squared value. "
      ],
      "metadata": {
        "id": "Ez0L5u5CJeGg"
      }
    },
    {
      "cell_type": "code",
      "source": [
        "nums = [0, 1, 2, 3, 4]\n",
        "# your code here:\n"
      ],
      "metadata": {
        "id": "PoLzlp95J3r1"
      },
      "execution_count": null,
      "outputs": []
    },
    {
      "cell_type": "markdown",
      "metadata": {
        "id": "VS1K4SmSKqCa"
      },
      "source": [
        "# Functions\n",
        "\n",
        "- A function is used to package some code in a way that is easy to test and re-use.\n",
        "- You have already used functions.\n",
        "  - Some functions, like \"print\" are built-in functions.\n",
        "  - But you can make your own functions."
      ]
    },
    {
      "cell_type": "code",
      "execution_count": null,
      "metadata": {
        "id": "BkRz9lzeKqCd"
      },
      "outputs": [],
      "source": [
        "# Function example:\n",
        "\n",
        "def celsiusToFahrenheit(temp_in_c):\n",
        "    temp_in_f = (9 / 5) * temp_in_c + 32\n",
        "    return temp_in_f"
      ]
    },
    {
      "cell_type": "code",
      "execution_count": null,
      "metadata": {
        "collapsed": true,
        "id": "MRdbqSilKqCe",
        "outputId": "4ee7111f-bd9a-408c-ce61-d9d6c374abea"
      },
      "outputs": [
        {
          "name": "stdout",
          "output_type": "stream",
          "text": [
            "100.0 C is 212.0 F\n",
            "0.0 C is 32.0 F\n",
            "-40.0 C is -40.0 F\n"
          ]
        }
      ],
      "source": [
        "c = 100.0\n",
        "f = celsiusToFahrenheit(c)\n",
        "print(c, 'C is', f, 'F') \n",
        "\n",
        "c = 0.0\n",
        "f = celsiusToFahrenheit(c)\n",
        "print(c, 'C is', f, 'F')\n",
        "\n",
        "c = -40.0\n",
        "f = celsiusToFahrenheit(c)\n",
        "print(c, 'C is', f, 'F')"
      ]
    },
    {
      "cell_type": "markdown",
      "metadata": {
        "id": "mf4wp0isKqCe"
      },
      "source": [
        "## Exercise 18\n",
        "\n",
        "- Write a function that converts Fahrenheit to Celsius\n",
        "- Print a Fahrenheit to Celsius conversion table from 32 F to 212 F\n",
        "- The forumla is:\n",
        "  - C = 5/9 x (F - 32)\n",
        "  \n",
        "- Hints:\n",
        "  - You will need a for loop using the range function.\n",
        "  - Parentheses effect the order of arithmetic operations."
      ]
    },
    {
      "cell_type": "code",
      "source": [
        "# your code here:\n"
      ],
      "metadata": {
        "id": "5_tzRVOpKxZb"
      },
      "execution_count": null,
      "outputs": []
    },
    {
      "cell_type": "code",
      "source": [
        "# dictionary mapping car model to number of cars on the road in the U.S.\n",
        "carsOnRoad = {'ACURA': 27458,\n",
        "'ALFA ROMEO': 3735,\n",
        "'AUDI': 34839,\n",
        "'BMW': 50956,\n",
        "'BUICK': 35521,\n",
        "'CADILLAC': 23297,\n",
        "'CHEVROLET': 330381,\n",
        "'CHRYSLER': 13857,\n",
        "'DODGE': 43756,\n",
        "'FIAT': 1339,\n",
        "'FORD': 411035,\n",
        "'GENESIS': 3585,\n",
        "'GMC': 101759,\n",
        "'HONDA': 266044,\n",
        "'HYUNDAI': 139378,\n",
        "'INFINITI': 16097,\n",
        "'JAGUAR': 4320,\n",
        "'JEEP': 176713,\n",
        "'KIA': 125302,\n",
        "'LAND ROVER': 14500,\n",
        "'LEXUS': 50458,\n",
        "'LINCOLN': 21280,\n",
        "'MAZDA': 61199,\n",
        "'MERCEDES': 69505,\n",
        "'MINI': 5288,\n",
        "'MITSUBISHI': 12197,\n",
        "'NISSAN': 161317,\n",
        "'PORSCHE': 12193,\n",
        "'RAM': 127682,\n",
        "'SMART': 15023,\n",
        "'SUBARU': 136519,\n",
        "'TESLA': 36800,\n",
        "'TOYOTA': 347571,\n",
        "'VOLKSWAGEN': 69933,\n",
        "'VOLVO': 23770}"
      ],
      "metadata": {
        "id": "PA3PBar_LAG4"
      },
      "execution_count": null,
      "outputs": []
    },
    {
      "cell_type": "code",
      "source": [
        "# write a function to compute the average number of cars on the road\n",
        "# this is challenging!"
      ],
      "metadata": {
        "id": "5BDrYRZtLGpP"
      },
      "execution_count": null,
      "outputs": []
    },
    {
      "cell_type": "markdown",
      "source": [
        "## Rock-paper-scissors but better!\n",
        "\n",
        "We're going to play rock-paper-scissors again but this time, we will use functions (which makes our program much more efficient and reproducible)."
      ],
      "metadata": {
        "id": "9uDFVDUDL59W"
      }
    },
    {
      "cell_type": "code",
      "source": [
        "### Code here:\n"
      ],
      "metadata": {
        "id": "O8MuIWqHL-oC"
      },
      "execution_count": null,
      "outputs": []
    }
  ]
}