{
  "cells": [
    {
      "cell_type": "markdown",
      "metadata": {
        "id": "LsJTLWclrWlM"
      },
      "source": [
        "# Python topics\n",
        "\n",
        "- Jupyter\n",
        "- Variables\n",
        "- Data types: Strings, integers, lists, dictionaries, tuples\n",
        "- \"for\" loops\n",
        "- Reading data from a file\n",
        "- \"if\" statements\n",
        "- functions"
      ]
    },
    {
      "cell_type": "markdown",
      "metadata": {
        "id": "4gDw6tDlrWlQ"
      },
      "source": [
        "# Expectations\n",
        "\n",
        "- This is an introduction\n",
        "- Programmming takes practice\n",
        "- You need a real problem to work on"
      ]
    },
    {
      "cell_type": "markdown",
      "metadata": {
        "id": "p9JHALFsrWlR"
      },
      "source": [
        "# Tutorial\n",
        "\n",
        "This site has examples that you can experiment with online: https://www.w3schools.com/python/\n",
        "\n",
        "This is the introductory tutorial for Python that this workshop is heavily based on\n",
        "https://github.com/mcahn/Intro-to-Python\n",
        "\n",
        "### Books\n",
        "\n",
        "**Introducing Python, 2nd Edition, Bill Lubanovic**\n",
        "\n",
        "**Python for Data Analysis, 3rd Edition, Wes McKinney, O'Reilly Media, Inc.**"
      ]
    },
    {
      "cell_type": "markdown",
      "metadata": {
        "id": "vWYMc3uNrWlR"
      },
      "source": [
        "# Acknowledgements\n",
        "\n",
        "- Jon Halverson\n",
        "- Ma. Florevel (Floe) Fusin-Wischusen\n",
        "- Andrea Rubinstein\n",
        "- PICSciE -- The Princeton Institute for Computational Science and Engineering\n",
        "- Bridgett vonHoldt"
      ]
    },
    {
      "cell_type": "markdown",
      "metadata": {
        "id": "IiIRscw_rWlS"
      },
      "source": [
        "# Jupyter\n",
        "\n",
        "- You are running a web browser.\n",
        "- Inside the web browser is the Jupyter development environment for Python.\n",
        "- The file that you have open in Jupyter is an iPython notebook."
      ]
    },
    {
      "cell_type": "markdown",
      "metadata": {
        "id": "mWkHCpwVrWlS"
      },
      "source": [
        "## Cells\n",
        "- An iPython notebook is divided into cells.\n",
        "- Click on this cell.\n",
        "  - Now the cell is selected.\n",
        "  - Note that the menu above says \"Markdown\"."
      ]
    },
    {
      "cell_type": "markdown",
      "metadata": {
        "id": "AQYql_rvrWlS"
      },
      "source": [
        "![](markdown.png)"
      ]
    },
    {
      "cell_type": "markdown",
      "metadata": {
        "id": "WZa0ln2GrWlT"
      },
      "source": [
        "- Now click on the cell below, and note that the menu says \"Code\"."
      ]
    },
    {
      "cell_type": "code",
      "execution_count": null,
      "metadata": {
        "id": "kFQhdeKqrWlT",
        "outputId": "b8385bd9-9f70-4251-9bf0-ed82b0a21677"
      },
      "outputs": [
        {
          "name": "stdout",
          "output_type": "stream",
          "text": [
            "Hello world!\n"
          ]
        }
      ],
      "source": [
        "print('Hello world!')"
      ]
    },
    {
      "cell_type": "markdown",
      "metadata": {
        "id": "dEBVoDLlrWlV"
      },
      "source": [
        "- Run the cell above by single-clicking on it to select it,\n",
        "- and then click the \"Run\" button above, OR press Shift-Return.\n",
        "  - That is, while holding down the shift key, press the return key.\n",
        "![](run.png)"
      ]
    },
    {
      "cell_type": "markdown",
      "metadata": {
        "id": "4koPDEEGrWlV"
      },
      "source": [
        "## Exercise 01\n",
        "\n",
        "- Change 'Hello world!' above to something else, and run the cell again.\n",
        "- Make a new cell by clicking the + button above.\n",
        "- Put a Python print function in the cell and run it."
      ]
    },
    {
      "cell_type": "markdown",
      "metadata": {
        "id": "F_K8V-9nrWlV"
      },
      "source": [
        "# Variables "
      ]
    },
    {
      "cell_type": "markdown",
      "metadata": {
        "id": "Vl7Sd6PMrWlW"
      },
      "source": [
        "### Strings\n",
        "\n",
        "- A string is a sequence of characters -- letters, numbers, punctuation, spaces, etc."
      ]
    },
    {
      "cell_type": "markdown",
      "metadata": {
        "id": "Np6ScxprrWlW"
      },
      "source": [
        "### Assignment Operators\n",
        "\n",
        "= is the assignment operator.\n",
        "\n",
        "It means, take the thing on the right, and put it in the thing on the left."
      ]
    },
    {
      "cell_type": "code",
      "execution_count": null,
      "metadata": {
        "id": "wp0Aj9zcrWlW",
        "outputId": "4129b58a-b7b7-4266-bfae-7fba87a8c423"
      },
      "outputs": [
        {
          "name": "stdout",
          "output_type": "stream",
          "text": [
            "I like Python.\n"
          ]
        }
      ],
      "source": [
        "s = 'I like Python.'\n",
        "print(s)"
      ]
    },
    {
      "cell_type": "markdown",
      "metadata": {
        "id": "PhSB9n1YrWlW"
      },
      "source": [
        "### What is a Variable?\n",
        "\n",
        "- A variable is a name for a place in computer memory.\n",
        "- Above we created a variable called s, and put the string \"I like Python.\" in it.\n",
        "- You create a variable simply by assigning a value to it.\n",
        "- Upper/lower case matters!\n",
        "- Every variable has a type."
      ]
    },
    {
      "cell_type": "code",
      "execution_count": null,
      "metadata": {
        "id": "_r4iHq2IrWlX",
        "outputId": "63347a47-88c2-4f06-a78b-4094e2816cd1"
      },
      "outputs": [
        {
          "name": "stdout",
          "output_type": "stream",
          "text": [
            "<class 'str'>\n"
          ]
        }
      ],
      "source": [
        "print(type(s))"
      ]
    },
    {
      "cell_type": "markdown",
      "metadata": {
        "id": "1JVlDFIxrWlX"
      },
      "source": [
        "- 'str' is what Python calls an string.\n",
        "\n",
        "- \"class\" is just another way to say, in Python, \"this is a data type\"."
      ]
    },
    {
      "cell_type": "markdown",
      "metadata": {
        "id": "L7Gpj7x1rWlX"
      },
      "source": [
        "### Exercise 02\n",
        "\n",
        "- Create a new variable by assigining a string to it.\n",
        "- Print it.\n",
        "- What happens if you use double-quotes (\") instead of single quotes (')?"
      ]
    },
    {
      "cell_type": "markdown",
      "metadata": {
        "id": "qoEh9t4ZrWlX"
      },
      "source": [
        "### Undefined variables\n",
        "- What happens if you use a variable that has not been defined?"
      ]
    },
    {
      "cell_type": "code",
      "execution_count": null,
      "metadata": {
        "id": "DP_QpWSTrWlX",
        "outputId": "6dd54eb3-4f3a-4b9a-a7cf-81ef633207e3"
      },
      "outputs": [
        {
          "ename": "NameError",
          "evalue": "name 'blah' is not defined",
          "output_type": "error",
          "traceback": [
            "\u001b[1;31m---------------------------------------------------------------------------\u001b[0m",
            "\u001b[1;31mNameError\u001b[0m                                 Traceback (most recent call last)",
            "\u001b[1;32m<ipython-input-74-5e4ab9400f72>\u001b[0m in \u001b[0;36m<module>\u001b[1;34m()\u001b[0m\n\u001b[1;32m----> 1\u001b[1;33m \u001b[0mprint\u001b[0m\u001b[1;33m(\u001b[0m\u001b[0mblah\u001b[0m\u001b[1;33m)\u001b[0m\u001b[1;33m\u001b[0m\u001b[0m\n\u001b[0m",
            "\u001b[1;31mNameError\u001b[0m: name 'blah' is not defined"
          ]
        }
      ],
      "source": [
        "print(blah)"
      ]
    },
    {
      "cell_type": "markdown",
      "metadata": {
        "id": "PfAj_uTzrWlX"
      },
      "source": [
        "- You get a NameError"
      ]
    },
    {
      "cell_type": "code",
      "execution_count": null,
      "metadata": {
        "id": "gHIOL2iKrWlY",
        "outputId": "d7097ad4-84af-429b-886f-450705647f15"
      },
      "outputs": [
        {
          "name": "stdout",
          "output_type": "stream",
          "text": [
            "something\n"
          ]
        }
      ],
      "source": [
        "blah = 'something'\n",
        "print(blah)"
      ]
    },
    {
      "cell_type": "markdown",
      "metadata": {
        "id": "rEDYvpyIrWlY"
      },
      "source": [
        "### Integers\n",
        "\n",
        "- Integers are numbers that do not have decimal places:\n",
        "```\n",
        "..., -3, -2, -1, 0, 1, 2, 3, ...\n",
        "```"
      ]
    },
    {
      "cell_type": "code",
      "execution_count": null,
      "metadata": {
        "id": "JMZnQ-MVrWlY",
        "outputId": "8cabd505-4336-4e92-d2c8-44738bcf0a6c"
      },
      "outputs": [
        {
          "name": "stdout",
          "output_type": "stream",
          "text": [
            "1\n",
            "<class 'int'>\n"
          ]
        }
      ],
      "source": [
        "x = 1\n",
        "print(x)\n",
        "print(type(x))"
      ]
    },
    {
      "cell_type": "markdown",
      "metadata": {
        "id": "AW7HnkDTrWlY"
      },
      "source": [
        "- 'int' is what Python calls an integer.\n",
        "- Once something has been created, it's called an \"object\".\n",
        "- Everything in Python is an \"object\". \"variable\" is a kind of object.\n",
        "- x is an object whose class (aka data type) is int."
      ]
    },
    {
      "cell_type": "markdown",
      "metadata": {
        "id": "0waaNOK_rWlY"
      },
      "source": [
        "### Floats\n",
        "\n",
        "- A number with a decimal point is called a \"floating point\" number."
      ]
    },
    {
      "cell_type": "code",
      "execution_count": null,
      "metadata": {
        "id": "Z0CLVLm7rWlY",
        "outputId": "7ca51086-8c3b-4aea-c24a-579a4e5dfe3f"
      },
      "outputs": [
        {
          "name": "stdout",
          "output_type": "stream",
          "text": [
            "1.1\n",
            "<class 'float'>\n"
          ]
        }
      ],
      "source": [
        "x = 1.1\n",
        "print(x)\n",
        "print(type(x))"
      ]
    },
    {
      "cell_type": "markdown",
      "metadata": {
        "id": "dzCOMwGarWlY"
      },
      "source": [
        "### Break to think\n",
        "Suppose the inventory system in a grocery store records details of fruits as variables in a python program. \n",
        "Given our progress so far, what would be the type of the variable storing the:\n",
        "1. Name of the fruit\n",
        "2. Quantity of fruits in stock\n",
        "3. Price per lb"
      ]
    },
    {
      "cell_type": "markdown",
      "metadata": {
        "id": "ly6IDGWmrWlY"
      },
      "source": [
        "### Hmmmm......\n",
        "What if you want a string with a ' ? Try printing I'm learning Python in the cell below. How would you do that?"
      ]
    },
    {
      "cell_type": "markdown",
      "metadata": {
        "id": "4E1LlV6yrWlZ"
      },
      "source": [
        "# Comments\n",
        "\n",
        "- Anything after # is a comment.  It's for someone reading your program.  It doesn't do anything."
      ]
    },
    {
      "cell_type": "code",
      "execution_count": null,
      "metadata": {
        "id": "q7dYheJ2rWlZ",
        "outputId": "24e72f24-c605-40f3-c505-2e4ddaa368dd"
      },
      "outputs": [
        {
          "name": "stdout",
          "output_type": "stream",
          "text": [
            "something\n"
          ]
        }
      ],
      "source": [
        "# Print something\n",
        "\n",
        "print('something')"
      ]
    },
    {
      "cell_type": "markdown",
      "metadata": {
        "id": "t179xBVkrWlZ"
      },
      "source": [
        "# For loops\n",
        "\n",
        "- This is a for loop. It executes once for every item in \"things\"...\n",
        "\n",
        "```\n",
        "# Go through each thing in things...\n",
        "for thing in things:\n",
        "    # do something with each thing\n",
        "    print(thing)\n",
        "```\n",
        "\n",
        "- The indentation matters -- it tells Python which statements are part of the loop.\n",
        "\n",
        "- Notice the colon (:) at the end of the for loop.  This tells Python that there is some significant indentation after it."
      ]
    },
    {
      "cell_type": "code",
      "execution_count": null,
      "metadata": {
        "id": "L7UXFf4irWlZ",
        "outputId": "cec1e165-7aa1-48ab-d9d2-ee140eecc1ba"
      },
      "outputs": [
        {
          "name": "stdout",
          "output_type": "stream",
          "text": [
            "I like Python.\n",
            "I\n",
            " \n",
            "l\n",
            "i\n",
            "k\n",
            "e\n",
            " \n",
            "P\n",
            "y\n",
            "t\n",
            "h\n",
            "o\n",
            "n\n",
            ".\n"
          ]
        }
      ],
      "source": [
        "s = 'I like Python.'\n",
        "print(s)\n",
        "\n",
        "# Print every character in the string \"s\".\n",
        "\n",
        "for c in s:\n",
        "    print(c)"
      ]
    },
    {
      "cell_type": "markdown",
      "metadata": {
        "id": "8PRIrkB3rWlZ"
      },
      "source": [
        "### The range function\n",
        "\n",
        "- `range(start, end)` generates numbers from start to end minus 1"
      ]
    },
    {
      "cell_type": "code",
      "execution_count": null,
      "metadata": {
        "id": "1wODHXMgrWlZ",
        "outputId": "e72f6be1-2ca9-4a03-bab1-0ef85cfb92b0"
      },
      "outputs": [
        {
          "name": "stdout",
          "output_type": "stream",
          "text": [
            "0\n",
            "1\n",
            "2\n",
            "3\n",
            "4\n",
            "5\n",
            "6\n",
            "7\n",
            "8\n",
            "9\n"
          ]
        }
      ],
      "source": [
        "for number in range(0, 10):\n",
        "    print(number)"
      ]
    },
    {
      "cell_type": "markdown",
      "metadata": {
        "id": "7tknIhzgrWla"
      },
      "source": [
        "- If you omit the start, it defaults to 0."
      ]
    },
    {
      "cell_type": "code",
      "execution_count": null,
      "metadata": {
        "id": "s9Yu1SbPrWla",
        "outputId": "d5412ee1-548d-49e3-de62-1807497c031e"
      },
      "outputs": [
        {
          "name": "stdout",
          "output_type": "stream",
          "text": [
            "0\n",
            "1\n",
            "2\n",
            "3\n",
            "4\n",
            "5\n",
            "6\n",
            "7\n",
            "8\n",
            "9\n"
          ]
        }
      ],
      "source": [
        "for number in range(10):\n",
        "    print(number)"
      ]
    },
    {
      "cell_type": "markdown",
      "metadata": {
        "id": "TfHA9ybTrWla"
      },
      "source": [
        "### Exercise 03\n",
        "\n",
        "- Print the numbers from 10 to 20, one number per line.\n",
        "- Be sure to include the number 20."
      ]
    },
    {
      "cell_type": "markdown",
      "metadata": {
        "id": "4sFHptp6rWln"
      },
      "source": [
        "# Reading a file\n",
        "\n",
        "- To read a file you first have to open it.\n",
        "- Once it's open you can read it with a for loop.\n",
        "- When you're done reading it, close it.\n",
        "- An open file is an iterable, so you can use it in a for loop. "
      ]
    },
    {
      "cell_type": "code",
      "execution_count": 2,
      "metadata": {
        "colab": {
          "base_uri": "https://localhost:8080/"
        },
        "id": "4GIY1G-ZrWln",
        "outputId": "52f3e2c5-380c-49df-8464-722e900c90aa"
      },
      "outputs": [
        {
          "output_type": "stream",
          "name": "stdout",
          "text": [
            "We are on the first line.\n",
            "\n",
            "We are on the second line.\n",
            "\n",
            "We are on the third line.\n",
            "\n",
            "We are on the fourth line.\n",
            "\n",
            "We are on the fifth line.\n",
            "\n",
            "We are on the sixth line.\n",
            "\n",
            "We are on the seventh line.\n",
            "\n",
            "We are on the eighth line.\n",
            "\n",
            "We are on the ninth line.\n",
            "\n",
            "We are on the tenth line.\n",
            "\n",
            "We are on the eleventh line.\n",
            "\n",
            "We are on the twelfth line.\n",
            "\n"
          ]
        }
      ],
      "source": [
        "# Open a file\n",
        "\n",
        "openFile = open('sample_text.txt')\n",
        "\n",
        "# Iterate through every line in the file.\n",
        "for line in openFile:\n",
        "    \n",
        "    # Print the current line\n",
        "    \n",
        "    print(line)\n",
        "\n",
        "# Close the file\n",
        "\n",
        "openFile.close()        # <=== Don't forget to close the file!"
      ]
    },
    {
      "cell_type": "markdown",
      "metadata": {
        "id": "PJPwan3GrWln"
      },
      "source": [
        "### Exercise 04\n",
        "\n",
        "- line is a variable.  Modify the cell above to print the type of the variable line."
      ]
    },
    {
      "cell_type": "markdown",
      "metadata": {
        "id": "OjVu6h4jrWlo"
      },
      "source": [
        "# Arithmetic"
      ]
    },
    {
      "cell_type": "markdown",
      "metadata": {
        "id": "OmVsQa00rWlo"
      },
      "source": [
        "## Addition operator\n",
        "\n",
        "- \\+ is the addition operator."
      ]
    },
    {
      "cell_type": "code",
      "execution_count": null,
      "metadata": {
        "id": "dppkOp4MrWlo",
        "outputId": "35a0b555-ee10-445d-aedc-b15a14b01fbe"
      },
      "outputs": [
        {
          "name": "stdout",
          "output_type": "stream",
          "text": [
            "3\n"
          ]
        }
      ],
      "source": [
        "x = 1\n",
        "y = 2\n",
        "z = x + y\n",
        "print(z)"
      ]
    },
    {
      "cell_type": "code",
      "execution_count": null,
      "metadata": {
        "id": "ktgbh0LTrWlo",
        "outputId": "dffaf1cc-221e-4173-cc5e-910850935174"
      },
      "outputs": [
        {
          "name": "stdout",
          "output_type": "stream",
          "text": [
            "I added 1 to z and now z is 4\n"
          ]
        }
      ],
      "source": [
        "z = z + 1\n",
        "print('I added 1 to z and now z is', z)"
      ]
    },
    {
      "cell_type": "markdown",
      "metadata": {
        "id": "COfevHQLrWlo"
      },
      "source": [
        "### Exercise 05\n",
        "- Modify the cell below which prints every line in the file to also to count the total number of lines in the file and print the number.\n",
        "\n",
        "- Note: print the number only once."
      ]
    },
    {
      "cell_type": "code",
      "execution_count": null,
      "metadata": {
        "id": "DYMszktLrWlo",
        "outputId": "8c0928c0-ff1d-4448-c23b-a82677c6da6a"
      },
      "outputs": [
        {
          "name": "stdout",
          "output_type": "stream",
          "text": [
            "We are on the first line.\n",
            "\n",
            "We are on the second line.\n",
            "\n",
            "We are on the third line.\n",
            "\n",
            "We are on the fourth line.\n",
            "\n",
            "We are on the fifth line.\n",
            "\n",
            "We are on the sixth line.\n",
            "\n",
            "We are on the seventh line.\n",
            "\n",
            "We are on the eighth line.\n",
            "\n",
            "We are on the ninth line.\n",
            "\n",
            "We are on the tenth line.\n",
            "\n",
            "We are on the eleventh line.\n",
            "\n",
            "We are on the twelfth line.\n",
            "\n"
          ]
        }
      ],
      "source": [
        "# Open a file\n",
        "\n",
        "openFile = open('sample_text.txt')\n",
        "\n",
        "# Iterate through every line in the file.\n",
        "for line in openFile:\n",
        "    \n",
        "    # Print the current line\n",
        "    \n",
        "    print(line)\n",
        "\n",
        "# Close the file\n",
        "\n",
        "openFile.close()        # <=== Don't forget to close the file!"
      ]
    },
    {
      "cell_type": "markdown",
      "metadata": {
        "id": "Zm3QTjZ0rWlo"
      },
      "source": [
        "## The arithmetic operators\n",
        "\n",
        "```\n",
        "+ addition\n",
        "- subtraction\n",
        "* mutiplication\n",
        "/ division\n",
        "// floor division, that is, 8 // 3 equals 2\n",
        "** exponentiation (power)\n",
        "% modulus (remainder after integer division), that is, 9 % 2 equals 1\n",
        "```"
      ]
    },
    {
      "cell_type": "markdown",
      "metadata": {
        "id": "4sIyHBTTrWlo"
      },
      "source": [
        "### Exercise 06\n",
        "If I purchase 3 mangoes, each priced at $2.50 and I split it with one friend. Complete the cell below to print the total amount I paid for the purchase and my share."
      ]
    },
    {
      "cell_type": "code",
      "execution_count": null,
      "metadata": {
        "id": "0sy4_L0FrWlo"
      },
      "outputs": [],
      "source": [
        "#the variable name denotes the information they store\n",
        "number_of_mangoes = 3\n",
        "price_per_mango = 2.5\n",
        "\n",
        "#calculate the total cost and print it here\n",
        "\n",
        "#calculate the share and print it here"
      ]
    },
    {
      "cell_type": "markdown",
      "metadata": {
        "id": "ML-v7nrprWlp"
      },
      "source": [
        "### Exercise 07\n",
        "\n",
        "- Print the numbers from 10 to 20, one number per line.\n",
        "- Be sure to include the number 20.\n",
        "- Now modify the code to print the remainder of each number when divided by 3 after printing the number"
      ]
    },
    {
      "cell_type": "markdown",
      "metadata": {
        "id": "s3oJWx3BrWlp"
      },
      "source": [
        "## Operator overloading\n",
        "\n",
        "Operator overloading is just a fancy term for operators doing different things depending on what they are operating on.\n",
        "\n",
        "- For lists and strings, \"+\" means concatenation (joining together).\n",
        "- For integers, \"+\" means addition.\n",
        "- Operator over-loading is feature of object-oriented programming.\n",
        "  - Python is an object-oriented language."
      ]
    },
    {
      "cell_type": "code",
      "execution_count": null,
      "metadata": {
        "scrolled": true,
        "id": "6mzVuXAhrWlp",
        "outputId": "3373d772-397e-4b3c-c276-2534402fa4d7"
      },
      "outputs": [
        {
          "name": "stdout",
          "output_type": "stream",
          "text": [
            "Hi there.\n"
          ]
        }
      ],
      "source": [
        "sOne = 'Hi '\n",
        "sTwo = 'there.'\n",
        "sThree = sOne + sTwo\n",
        "print(sThree)"
      ]
    },
    {
      "cell_type": "code",
      "execution_count": null,
      "metadata": {
        "id": "1zvLFxhdrWlp",
        "outputId": "66e17e5b-28e0-4f30-f184-1ea6a8bac033"
      },
      "outputs": [
        {
          "name": "stdout",
          "output_type": "stream",
          "text": [
            "[1, 2, 3, 4, 5, 6]\n"
          ]
        }
      ],
      "source": [
        "listOne = [1, 2, 3]\n",
        "listTwo = [4, 5, 6]\n",
        "listThree = listOne + listTwo\n",
        "print(listThree)"
      ]
    },
    {
      "cell_type": "markdown",
      "metadata": {
        "id": "AKA9XytmrWlp"
      },
      "source": [
        "### Exercise 08\n",
        " - Modify the code below to print \"I found this line: \" before every line in the file\n",
        " - Note: use only one print statement within the loop"
      ]
    },
    {
      "cell_type": "code",
      "execution_count": null,
      "metadata": {
        "id": "6v-xo329rWlp",
        "outputId": "f19dc88f-19c1-40eb-97fd-70c40e5d82b8"
      },
      "outputs": [
        {
          "name": "stdout",
          "output_type": "stream",
          "text": [
            "We are on the first line.\n",
            "\n",
            "We are on the second line.\n",
            "\n",
            "We are on the third line.\n",
            "\n",
            "We are on the fourth line.\n",
            "\n",
            "We are on the fifth line.\n",
            "\n",
            "We are on the sixth line.\n",
            "\n",
            "We are on the seventh line.\n",
            "\n",
            "We are on the eighth line.\n",
            "\n",
            "We are on the ninth line.\n",
            "\n",
            "We are on the tenth line.\n",
            "\n",
            "We are on the eleventh line.\n",
            "\n",
            "We are on the twelfth line.\n",
            "\n"
          ]
        }
      ],
      "source": [
        "# Open a file\n",
        "\n",
        "openFile = open('sample_text.txt')\n",
        "\n",
        "# Iterate through every line in the file.\n",
        "for line in openFile:\n",
        "    \n",
        "    # Print the current line\n",
        "    \n",
        "    print(line)\n",
        "\n",
        "# Close the file\n",
        "\n",
        "openFile.close()        # <=== Don't forget to close the file!"
      ]
    },
    {
      "cell_type": "markdown",
      "metadata": {
        "id": "aQyiH3m2rWlp"
      },
      "source": [
        "# Lists\n",
        "\n",
        "- A list is a collection of Python objects, such as strings or integers."
      ]
    },
    {
      "cell_type": "code",
      "execution_count": null,
      "metadata": {
        "id": "AHV80pn1rWlp",
        "outputId": "1f15288a-5c19-42eb-8a74-811a304d6ea9"
      },
      "outputs": [
        {
          "name": "stdout",
          "output_type": "stream",
          "text": [
            "['apple', 'banana', 'mango']\n"
          ]
        }
      ],
      "source": [
        "# Create a list of three strings\n",
        "\n",
        "fruits = ['apple', 'banana', 'mango']\n",
        "\n",
        "print(fruits)"
      ]
    },
    {
      "cell_type": "markdown",
      "metadata": {
        "id": "M2uqHzylrWlp"
      },
      "source": [
        "## Methods\n",
        "\n",
        "- \"append\" is a method of the list object.\n",
        "\n",
        "- It knows how to attach things to the end of the list."
      ]
    },
    {
      "cell_type": "code",
      "execution_count": null,
      "metadata": {
        "id": "9ZZh7Yp3rWlp",
        "outputId": "4ec084cf-1b3b-46e1-a16d-d58a4d07bcab"
      },
      "outputs": [
        {
          "name": "stdout",
          "output_type": "stream",
          "text": [
            "['apple', 'banana', 'mango', 'kiwi']\n"
          ]
        }
      ],
      "source": [
        "# Attach something to the end of the list\n",
        "\n",
        "fruits.append('kiwi')\n",
        "print(fruits)"
      ]
    },
    {
      "cell_type": "markdown",
      "metadata": {
        "id": "j0r56bvBrWlq"
      },
      "source": [
        "- \"sort\" is also a method of the list . It puts the things in the list in order."
      ]
    },
    {
      "cell_type": "code",
      "execution_count": null,
      "metadata": {
        "id": "P5HRmAuKrWlq",
        "outputId": "21f71ed3-f370-4662-d27f-e58a2f8abb17"
      },
      "outputs": [
        {
          "name": "stdout",
          "output_type": "stream",
          "text": [
            "['apple', 'banana', 'kiwi', 'mango']\n"
          ]
        }
      ],
      "source": [
        "# Sort a list in order\n",
        "\n",
        "fruits.sort()\n",
        "\n",
        "print(fruits)"
      ]
    },
    {
      "cell_type": "markdown",
      "metadata": {
        "id": "AWXgC_uUrWlq"
      },
      "source": [
        "## Length of list\n",
        "\"len\" is method used with a list object. It returns the length of the list."
      ]
    },
    {
      "cell_type": "code",
      "execution_count": null,
      "metadata": {
        "id": "502XB6ForWlq",
        "outputId": "c7af9fe4-a5b0-46d6-f765-731855aaa9ce"
      },
      "outputs": [
        {
          "data": {
            "text/plain": [
              "4"
            ]
          },
          "execution_count": 96,
          "metadata": {},
          "output_type": "execute_result"
        }
      ],
      "source": [
        "len(fruits)"
      ]
    },
    {
      "cell_type": "markdown",
      "metadata": {
        "id": "LM82nkUerWlq"
      },
      "source": [
        "- You can make an empty list."
      ]
    },
    {
      "cell_type": "code",
      "execution_count": null,
      "metadata": {
        "id": "DQKqQWe8rWlq",
        "outputId": "70cda106-749b-4fec-8dde-68fd46556e20"
      },
      "outputs": [
        {
          "name": "stdout",
          "output_type": "stream",
          "text": [
            "[]\n"
          ]
        }
      ],
      "source": [
        "anotherList = []\n",
        "\n",
        "print(anotherList)"
      ]
    },
    {
      "cell_type": "markdown",
      "metadata": {
        "id": "ltTcwWiVrWlq"
      },
      "source": [
        "### Exercise 09\n",
        "\n",
        "- Create a list containing three integers. Be sure the integers *are not* in numerical order.\n",
        "- Sort the list in numerical order and print it out.\n",
        "- Using a for loop, print out each integer in your list, one per line."
      ]
    },
    {
      "cell_type": "markdown",
      "metadata": {
        "id": "Tmbj5mKYrWlq"
      },
      "source": [
        "## List indexes\n",
        "\n",
        "- Indexes are used to access individual items in a list.\n",
        "- **Indexes are integers, starting from 0.**"
      ]
    },
    {
      "cell_type": "code",
      "execution_count": null,
      "metadata": {
        "id": "yfJBBr7wrWlq",
        "outputId": "afd181cb-4297-4e35-85f2-b7532b1efa29"
      },
      "outputs": [
        {
          "name": "stdout",
          "output_type": "stream",
          "text": [
            "fruits:  ['apple', 'banana', 'kiwi', 'mango']\n",
            "fruits[0]: apple\n",
            "fruits[3]: mango\n"
          ]
        }
      ],
      "source": [
        "fruits = ['apple', 'banana', 'kiwi', 'mango']\n",
        "\n",
        "print('fruits: ', fruits)\n",
        "\n",
        "print('fruits[0]:', fruits[0])\n",
        "\n",
        "print('fruits[3]:', fruits[3])"
      ]
    },
    {
      "cell_type": "markdown",
      "metadata": {
        "id": "6QP7J5tDrWlq"
      },
      "source": [
        "### Exercise 10\n",
        "\n",
        "- Use the list of fruits above to print each of the items in a separate line"
      ]
    },
    {
      "cell_type": "markdown",
      "metadata": {
        "id": "LF6w3J99rWlr"
      },
      "source": [
        "### Exercise 11\n",
        "\n",
        "- Use the list of fruits above to print each of the items in a separate line, with in the format \"Fruit 1 is apple\"\n",
        "- Note: The first printed line starts at 1"
      ]
    },
    {
      "cell_type": "markdown",
      "metadata": {
        "id": "k6c0ZjbkrWlr"
      },
      "source": [
        "## List Slices\n",
        "\n",
        "- You can specify a range of indexes -- this is called a \"slice\".\n",
        "\n",
        "- The slice is specified as a starting index, a colon, and a number that is **one more than the ending index** you want."
      ]
    },
    {
      "cell_type": "code",
      "execution_count": null,
      "metadata": {
        "id": "d4Wxx1gYrWlr",
        "outputId": "25b7899c-8a65-4a26-e4d6-38d1f08760e6"
      },
      "outputs": [
        {
          "name": "stdout",
          "output_type": "stream",
          "text": [
            "fruits[0:2]: ['apple', 'banana']\n"
          ]
        }
      ],
      "source": [
        "print('fruits[0:2]:', fruits[0:2])"
      ]
    },
    {
      "cell_type": "markdown",
      "metadata": {
        "id": "LytgHtmbrWlr"
      },
      "source": [
        "- You can omit one or both indexes\n",
        "  - The starting index defaults to 0.\n",
        "  - The ending index defaults to the end of the list."
      ]
    },
    {
      "cell_type": "code",
      "execution_count": null,
      "metadata": {
        "id": "1CVQr0P-rWlr",
        "outputId": "ae402e0f-e772-448b-abe4-230ef6999469"
      },
      "outputs": [
        {
          "name": "stdout",
          "output_type": "stream",
          "text": [
            "fruits[:2]: ['apple', 'banana']\n",
            "fruits[1:]: ['banana', 'kiwi', 'mango']\n",
            "fruits[:]:  ['apple', 'banana', 'kiwi', 'mango']\n"
          ]
        }
      ],
      "source": [
        "# Use the default starting index.\n",
        "\n",
        "print('fruits[:2]:', fruits[:2])\n",
        "\n",
        "# Use the default ending index.\n",
        "\n",
        "print('fruits[1:]:', fruits[1:])\n",
        "\n",
        "# Use both defaults.\n",
        "\n",
        "print('fruits[:]: ', fruits[:])"
      ]
    },
    {
      "cell_type": "markdown",
      "metadata": {
        "id": "hYz_x3VrrWlr"
      },
      "source": [
        "- Negative indexes start from the end"
      ]
    },
    {
      "cell_type": "code",
      "execution_count": null,
      "metadata": {
        "id": "8p1J4W2jrWlr",
        "outputId": "ebf961b0-0295-4a3c-ba17-80eb433a6978"
      },
      "outputs": [
        {
          "name": "stdout",
          "output_type": "stream",
          "text": [
            "fruits[-1]: mango\n"
          ]
        }
      ],
      "source": [
        "print('fruits[-1]:', fruits[-1])"
      ]
    },
    {
      "cell_type": "markdown",
      "metadata": {
        "id": "vOYE-2w1rWlr"
      },
      "source": [
        "### Exercise 12\n",
        "\n",
        "- Using a slice, print \"banana\" and \"kiwi\" from the list of fruits."
      ]
    },
    {
      "cell_type": "markdown",
      "metadata": {
        "id": "ppJyV2b2rWlr"
      },
      "source": [
        "## String split method\n",
        "\n",
        "- The split method of a string divides the string\n",
        "- and returns a list of strings."
      ]
    },
    {
      "cell_type": "code",
      "execution_count": null,
      "metadata": {
        "id": "WRzqzEP9rWlr",
        "outputId": "1e99a0b9-935f-45bb-9bd9-85c6bad5c5bd"
      },
      "outputs": [
        {
          "name": "stdout",
          "output_type": "stream",
          "text": [
            "apple kiwi banana orange\n"
          ]
        }
      ],
      "source": [
        "fruitString = 'apple kiwi banana orange'\n",
        "\n",
        "print(fruitString)"
      ]
    },
    {
      "cell_type": "code",
      "execution_count": null,
      "metadata": {
        "id": "7v5QmhHBrWlr",
        "outputId": "7248e9fd-2dcd-4633-d0a8-d9d13a823037"
      },
      "outputs": [
        {
          "name": "stdout",
          "output_type": "stream",
          "text": [
            "['apple', 'kiwi', 'banana', 'orange']\n"
          ]
        }
      ],
      "source": [
        "fruits = fruitString.split()\n",
        "\n",
        "print(fruits)"
      ]
    },
    {
      "cell_type": "markdown",
      "metadata": {
        "id": "u5_-zQYorWls"
      },
      "source": [
        "### Exercise 13 - learn delimiters \n",
        "\n",
        "- Make a string which contains some commas.\n",
        "- Print the string.\n",
        "- Do this: help(yourString.split) *replacing yourString with your string variable*\n",
        "- Split the string at each comma to create a list.\n",
        "- Print the list"
      ]
    }
  ],
  "metadata": {
    "kernelspec": {
      "display_name": "Python 3",
      "language": "python",
      "name": "python3"
    },
    "language_info": {
      "codemirror_mode": {
        "name": "ipython",
        "version": 3
      },
      "file_extension": ".py",
      "mimetype": "text/x-python",
      "name": "python",
      "nbconvert_exporter": "python",
      "pygments_lexer": "ipython3",
      "version": "3.7.0"
    },
    "colab": {
      "provenance": []
    }
  },
  "nbformat": 4,
  "nbformat_minor": 0
}